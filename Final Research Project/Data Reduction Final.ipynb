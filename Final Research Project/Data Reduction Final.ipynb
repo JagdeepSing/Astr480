{
 "cells": [
  {
   "cell_type": "code",
   "execution_count": 36,
   "metadata": {},
   "outputs": [],
   "source": [
    "import glob\n",
    "import numpy as np\n",
    "\n",
    "from astropy.io import fits"
   ]
  },
  {
   "cell_type": "code",
   "execution_count": 37,
   "metadata": {},
   "outputs": [],
   "source": [
    "from photutils import CircularAnnulus as CAn\n",
    "from photutils import aperture_photometry as apPho"
   ]
  },
  {
   "cell_type": "markdown",
   "metadata": {},
   "source": [
    "# Overscan Removal"
   ]
  },
  {
   "cell_type": "code",
   "execution_count": 38,
   "metadata": {
    "scrolled": true
   },
   "outputs": [],
   "source": [
    "fits_files = [line.rstrip('\\n') for line in open('data_files.list')]\n",
    "os_removed = [line.rstrip('\\n') for line in open('files_osr.list')]"
   ]
  },
  {
   "cell_type": "code",
   "execution_count": 39,
   "metadata": {},
   "outputs": [],
   "source": [
    "n = len(fits_files)\n",
    "\n",
    "for i in range(0,n):\n",
    "    data = fits.getdata(fits_files[i])\n",
    "    data = data[350:1650, 350:1650]\n",
    "    fits.writeto(os_removed[i], data, overwrite=True)"
   ]
  },
  {
   "cell_type": "markdown",
   "metadata": {},
   "source": [
    "# Bias Subtraction"
   ]
  },
  {
   "cell_type": "code",
   "execution_count": 40,
   "metadata": {},
   "outputs": [
    {
     "data": {
      "text/plain": [
       "['mid/osr_arctic_bias.0001.fits',\n",
       " 'mid/osr_arctic_bias.0002.fits',\n",
       " 'mid/osr_arctic_bias.0003.fits',\n",
       " 'mid/osr_arctic_bias.0004.fits',\n",
       " 'mid/osr_arctic_bias.0005.fits']"
      ]
     },
     "execution_count": 40,
     "metadata": {},
     "output_type": "execute_result"
    }
   ],
   "source": [
    "bias_files = glob.glob('mid/osr_*bias*.fits')\n",
    "bias_files"
   ]
  },
  {
   "cell_type": "code",
   "execution_count": 41,
   "metadata": {},
   "outputs": [
    {
     "data": {
      "text/plain": [
       "['5007/bias_osr_arctic_5007_flat.0001.fits',\n",
       " '5007/bias_osr_arctic_5007_flat.0002.fits',\n",
       " '5007/bias_osr_arctic_5007_flat.0003.fits',\n",
       " 'r/bias_osr_arctic_m97.0001.fits',\n",
       " 'r/bias_osr_arctic_m97.0002.fits',\n",
       " '5007/bias_osr_arctic_m97.0003.fits',\n",
       " '5007/bias_osr_arctic_m97.0004.fits',\n",
       " 'r/bias_osr_arctic_r_flat.0003.fits',\n",
       " 'r/bias_osr_arctic_r_flat.0004.fits',\n",
       " 'r/bias_osr_arctic_r_flat.0005.fits']"
      ]
     },
     "execution_count": 41,
     "metadata": {},
     "output_type": "execute_result"
    }
   ],
   "source": [
    "data_in = [line.rstrip('\\n') for line in open('osr_flats.list')]\n",
    "data_out = [line.rstrip('\\n') for line in open('bias_osr_flats.list')]\n",
    "data_out"
   ]
  },
  {
   "cell_type": "code",
   "execution_count": 42,
   "metadata": {},
   "outputs": [],
   "source": [
    "data_stack = []\n",
    "for file in bias_files:\n",
    "    data_stack.append(fits.getdata(file))\n",
    "\n",
    "median = np.median(data_stack, axis = 0)\n",
    "header = fits.getheader(bias_files[0])\n",
    "header['HISTORY'] = 'Median combined'\n",
    "\n",
    "n = len(data_in)\n",
    "\n",
    "for i in range(0,n):\n",
    "    data = fits.getdata(data_in[i], header=False)\n",
    "    data = data - median\n",
    "    fits.writeto(data_out[i],data, overwrite=True)"
   ]
  },
  {
   "cell_type": "markdown",
   "metadata": {},
   "source": [
    "# 5007 Filter"
   ]
  },
  {
   "cell_type": "markdown",
   "metadata": {},
   "source": [
    "#### normalize and combine flats"
   ]
  },
  {
   "cell_type": "code",
   "execution_count": 43,
   "metadata": {},
   "outputs": [
    {
     "data": {
      "text/plain": [
       "['5007/bias_osr_arctic_5007_flat.0001.fits',\n",
       " '5007/bias_osr_arctic_5007_flat.0002.fits',\n",
       " '5007/bias_osr_arctic_5007_flat.0003.fits']"
      ]
     },
     "execution_count": 43,
     "metadata": {},
     "output_type": "execute_result"
    }
   ],
   "source": [
    "flats_5007 = [line.rstrip('\\n') for line in open('flats_5007.list')]\n",
    "flats_5007"
   ]
  },
  {
   "cell_type": "code",
   "execution_count": 44,
   "metadata": {},
   "outputs": [],
   "source": [
    "flat_stack_5007 = []\n",
    "\n",
    "for file in flats_5007:\n",
    "    data = fits.getdata(file, header=False)\n",
    "    data = data / np.median(data)\n",
    "    flat_stack_5007.append(data)\n",
    "\n",
    "flat_5007 = np.median(flat_stack_5007, axis=0)\n",
    "mean = np.mean(flat_5007)\n",
    "avg_5007 = flat_5007 / mean\n",
    "\n",
    "fits.writeto('5007/flat_avg_5007.fits', avg_5007, overwrite=True)"
   ]
  },
  {
   "cell_type": "code",
   "execution_count": 45,
   "metadata": {},
   "outputs": [
    {
     "data": {
      "text/plain": [
       "['5007/flattened_arctic_m97.0003.fits', '5007/flattened_arctic_m97.0004.fits']"
      ]
     },
     "execution_count": 45,
     "metadata": {},
     "output_type": "execute_result"
    }
   ],
   "source": [
    "image_5007_in = [line.rstrip('\\n') for line in open('image_5007.list')]\n",
    "image_5007_out = [line.rstrip('\\n') for line in open('image_5007_out.list')]\n",
    "image_5007_out"
   ]
  },
  {
   "cell_type": "code",
   "execution_count": 46,
   "metadata": {},
   "outputs": [],
   "source": [
    "n = len(image_5007_in)\n",
    "\n",
    "for i in range(0,n):\n",
    "    data = fits.getdata(image_5007_in[i], header=False)\n",
    "    data = data / avg_5007\n",
    "    fits.writeto(image_5007_out[i], data, overwrite=True)"
   ]
  },
  {
   "cell_type": "markdown",
   "metadata": {},
   "source": [
    "#### Photometry"
   ]
  },
  {
   "cell_type": "code",
   "execution_count": 47,
   "metadata": {},
   "outputs": [],
   "source": [
    "r_ap = 480 # all nebula\n",
    "r_in = 487 # edge of nebula\n",
    "r_out = 500 # background to subtract\n",
    "\n",
    "position = [(630,639)]\n",
    "annulus = CAn(position, r_in, r_out)"
   ]
  },
  {
   "cell_type": "code",
   "execution_count": 48,
   "metadata": {},
   "outputs": [],
   "source": [
    "image_data = fits.getdata(image_5007_out[0])\n",
    "annulus_center = apPho(image_data, annulus, method='center')\n",
    "\n",
    "bkg_mean = annulus_center['aperture_sum'] / annulus.area()\n",
    "bkg = np.ones((1300,1300))*bkg_mean\n",
    "\n",
    "final_image = image_data - bkg\n",
    "\n",
    "fits.writeto('final_arctic_m97.0003.fits', final_image, overwrite=True)"
   ]
  },
  {
   "cell_type": "code",
   "execution_count": 49,
   "metadata": {},
   "outputs": [],
   "source": [
    "image_data = fits.getdata(image_5007_out[1])\n",
    "annulus_center = apPho(image_data, annulus, method='center')\n",
    "\n",
    "bkg_mean = annulus_center['aperture_sum'] / annulus.area()\n",
    "bkg = np.ones((1300,1300))*bkg_mean\n",
    "\n",
    "final_image = image_data - bkg\n",
    "\n",
    "fits.writeto('final_arctic_m97.0004.fits', final_image, overwrite=True)"
   ]
  },
  {
   "cell_type": "markdown",
   "metadata": {},
   "source": [
    "# R filter"
   ]
  },
  {
   "cell_type": "code",
   "execution_count": 50,
   "metadata": {},
   "outputs": [],
   "source": [
    "flats_r = [line.rstrip('\\n') for line in open('flats_r.list')]"
   ]
  },
  {
   "cell_type": "code",
   "execution_count": 51,
   "metadata": {},
   "outputs": [],
   "source": [
    "flat_stack_r = []\n",
    "for file in flats_r:\n",
    "    data = fits.getdata(file, header=False)\n",
    "    data = data / np.median(data)\n",
    "    flat_stack_r.append(data)\n",
    "    \n",
    "flat_r = np.median(flat_stack_r, axis=0)\n",
    "mean = (flat_r)\n",
    "avg_r = flat_r / mean\n",
    "\n",
    "fits.writeto('r/flat_avg_r.fits', avg_5007, overwrite=True)"
   ]
  },
  {
   "cell_type": "code",
   "execution_count": 52,
   "metadata": {},
   "outputs": [],
   "source": [
    "image_r_in = [line.rstrip('\\n') for line in open('image_r_in.list')]\n",
    "image_r_out = [line.rstrip('\\n') for line in open('image_r_out.list')]"
   ]
  },
  {
   "cell_type": "code",
   "execution_count": 53,
   "metadata": {},
   "outputs": [],
   "source": [
    "n = len(image_r_in)\n",
    "\n",
    "for i in range(0,n):\n",
    "    data = fits.getdata(image_r_in[i], header=False)\n",
    "    data = data / avg_r\n",
    "    fits.writeto(image_r_out[i], data, overwrite=True)"
   ]
  },
  {
   "cell_type": "markdown",
   "metadata": {},
   "source": [
    "#### Photometry"
   ]
  },
  {
   "cell_type": "code",
   "execution_count": 54,
   "metadata": {},
   "outputs": [],
   "source": [
    "image_data = fits.getdata(image_r_out[0])\n",
    "annulus_center = apPho(image_data, annulus, method='center')\n",
    "\n",
    "bkg_mean = annulus_center['aperture_sum'] / annulus.area()\n",
    "bkg = np.ones((1300,1300))*bkg_mean\n",
    "\n",
    "final_image = image_data - bkg\n",
    "\n",
    "fits.writeto('final_arctic_m97.0001.fits', final_image, overwrite=True)"
   ]
  },
  {
   "cell_type": "code",
   "execution_count": 55,
   "metadata": {},
   "outputs": [],
   "source": [
    "image_data = fits.getdata(image_r_out[1])\n",
    "annulus_center = apPho(image_data, annulus, method='center')\n",
    "\n",
    "bkg_mean = annulus_center['aperture_sum'] / annulus.area()\n",
    "bkg = np.ones((1300,1300))*bkg_mean\n",
    "\n",
    "final_image = image_data - bkg\n",
    "\n",
    "fits.writeto('final_arctic_m97.0002.fits', final_image, overwrite=True)"
   ]
  },
  {
   "cell_type": "code",
   "execution_count": null,
   "metadata": {},
   "outputs": [],
   "source": []
  }
 ],
 "metadata": {
  "kernelspec": {
   "display_name": "Python 3",
   "language": "python",
   "name": "python3"
  },
  "language_info": {
   "codemirror_mode": {
    "name": "ipython",
    "version": 3
   },
   "file_extension": ".py",
   "mimetype": "text/x-python",
   "name": "python",
   "nbconvert_exporter": "python",
   "pygments_lexer": "ipython3",
   "version": "3.6.4"
  }
 },
 "nbformat": 4,
 "nbformat_minor": 2
}
