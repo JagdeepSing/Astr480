{
 "cells": [
  {
   "cell_type": "code",
   "execution_count": 14,
   "metadata": {},
   "outputs": [],
   "source": [
    "import numpy as np\n",
    "import pandas as pd\n",
    "import astropy\n",
    "import astropy.units as u\n",
    "from astropy.time import Time\n",
    "from astropy.coordinates import SkyCoord\n",
    "\n",
    "from astroplan import Observer, FixedTarget\n",
    "from astroplan import moon_illumination"
   ]
  },
  {
   "cell_type": "code",
   "execution_count": 15,
   "metadata": {},
   "outputs": [
    {
     "name": "stdout",
     "output_type": "stream",
     "text": [
      "Downloading http://maia.usno.navy.mil/ser7/finals2000A.all [Done]\n"
     ]
    }
   ],
   "source": [
    "from astroplan import download_IERS_A\n",
    "download_IERS_A()"
   ]
  },
  {
   "cell_type": "code",
   "execution_count": 16,
   "metadata": {},
   "outputs": [],
   "source": [
    "def observeLength(loc, dates):\n",
    "    for idx,val in enumerate(dates):\n",
    "        astro_set = loc.twilight_evening_astronomical(val, which='nearest') \n",
    "        astro_rise = loc.twilight_morning_astronomical(val, which='next')\n",
    "        observing_length = (astro_rise - astro_set).to(u.h)\n",
    "        print(\"Observe for {0:.1f} on \".format(observing_length) + str(val))       "
   ]
  },
  {
   "cell_type": "code",
   "execution_count": 17,
   "metadata": {},
   "outputs": [],
   "source": [
    "def objectsVisible(loc, table, date):\n",
    "    print(\"Name,           RA,          DEC,           airmass\")\n",
    "    for index,row in table.iterrows():\n",
    "        coords = SkyCoord(row.ra, row.dec, unit=(u.hourangle, u.deg))\n",
    "        obj = FixedTarget(name=row.name, coord=coords)\n",
    "        obj_altaz = loc.altaz(date, obj)\n",
    "        objUP = loc.target_is_up(date, obj)\n",
    "        if ((objUP) and (obj_altaz.secz < 1.2)):\n",
    "            print(index, row[0], row[1], row[2], obj_altaz.secz)\n",
    "            #objs_visible = objs_visible.append(row)"
   ]
  },
  {
   "cell_type": "code",
   "execution_count": 18,
   "metadata": {},
   "outputs": [],
   "source": [
    "def moonIllumination(dates):\n",
    "    for idx,val in enumerate(obs_dates):\n",
    "        print(val, moon_illumination(val))"
   ]
  },
  {
   "cell_type": "markdown",
   "metadata": {},
   "source": [
    "# 1) Objects List and Dates List"
   ]
  },
  {
   "cell_type": "code",
   "execution_count": 19,
   "metadata": {},
   "outputs": [],
   "source": [
    "pn_table = pd.read_excel(\"PNe-1.xlsx\")"
   ]
  },
  {
   "cell_type": "code",
   "execution_count": 20,
   "metadata": {},
   "outputs": [],
   "source": [
    "obs_dates_list = [\"2019-02-01\", \"2019-02-02\", \"2019-02-03\", \"2019-02-04\", \"2019-02-05\", \"2019-02-06\", \"2019-02-07\", \"2019-02-08\", \"2019-02-09\", \"2019-02-10\", \"2019-02-11\", \"2019-02-12\", \"2019-02-13\", \"2019-02-14\"]\n",
    "obs_dates = Time(obs_dates_list, format='iso')"
   ]
  },
  {
   "cell_type": "markdown",
   "metadata": {},
   "source": [
    "# Observing Location"
   ]
  },
  {
   "cell_type": "code",
   "execution_count": 21,
   "metadata": {},
   "outputs": [],
   "source": [
    "gwObs = Observer.at_site('greenwich')"
   ]
  },
  {
   "cell_type": "markdown",
   "metadata": {},
   "source": [
    "# 2) Observing Length For Dates"
   ]
  },
  {
   "cell_type": "code",
   "execution_count": 22,
   "metadata": {},
   "outputs": [
    {
     "name": "stdout",
     "output_type": "stream",
     "text": [
      "Observe for 11.0 h on 2019-02-01 00:00:00.000\n",
      "Observe for 11.0 h on 2019-02-02 00:00:00.000\n",
      "Observe for 10.9 h on 2019-02-03 00:00:00.000\n",
      "Observe for 10.9 h on 2019-02-04 00:00:00.000\n",
      "Observe for 10.8 h on 2019-02-05 00:00:00.000\n",
      "Observe for 10.8 h on 2019-02-06 00:00:00.000\n",
      "Observe for 10.7 h on 2019-02-07 00:00:00.000\n",
      "Observe for 10.7 h on 2019-02-08 00:00:00.000\n",
      "Observe for 10.6 h on 2019-02-09 00:00:00.000\n",
      "Observe for 10.6 h on 2019-02-10 00:00:00.000\n",
      "Observe for 10.5 h on 2019-02-11 00:00:00.000\n",
      "Observe for 10.5 h on 2019-02-12 00:00:00.000\n",
      "Observe for 10.4 h on 2019-02-13 00:00:00.000\n",
      "Observe for 10.3 h on 2019-02-14 00:00:00.000\n"
     ]
    }
   ],
   "source": [
    "observeLength(gwObs, obs_dates)"
   ]
  },
  {
   "cell_type": "markdown",
   "metadata": {},
   "source": [
    "# Objects Visible"
   ]
  },
  {
   "cell_type": "code",
   "execution_count": 23,
   "metadata": {
    "scrolled": false
   },
   "outputs": [
    {
     "name": "stdout",
     "output_type": "stream",
     "text": [
      "Name,           RA,          DEC,           airmass\n",
      "8 PuWe 1      06 19 34.30 +55 36 42.6 1.1050869320462244\n",
      "15 EGB 4       06 29 35.35 +71 04 03.5 1.1170562711584675\n",
      "17 NGC 2242    06 34 07.40 +44 46 37.6 1.1174066753248644\n",
      "23 NeVe 8      06 42 00.00 +37 08 00.0 1.1510056685221808\n",
      "24 A 16        06 43 55.26 +61 47 25.0 1.0793681808631463\n",
      "58 NGC 2371-72 07 25 35.29 +29 29 35.8 1.1472136511569526\n",
      "96 JnEr 1      07 57 52.58 +53 25 18.4 1.0190251536625827\n",
      "142 A 28        08 41 34.59 +58 13 54.2 1.0093592680356307\n"
     ]
    }
   ],
   "source": [
    "objectsVisible(gwObs, pn_table, obs_dates[7])"
   ]
  },
  {
   "cell_type": "markdown",
   "metadata": {},
   "source": [
    "# 3) Moon Phase"
   ]
  },
  {
   "cell_type": "code",
   "execution_count": 24,
   "metadata": {
    "scrolled": false
   },
   "outputs": [
    {
     "name": "stdout",
     "output_type": "stream",
     "text": [
      "2019-02-01 00:00:00.000 0.13064467718701367\n",
      "2019-02-02 00:00:00.000 0.07280233526687313\n",
      "2019-02-03 00:00:00.000 0.031220534386135534\n",
      "2019-02-04 00:00:00.000 0.006901479974308011\n",
      "2019-02-05 00:00:00.000 0.0003919824971744257\n",
      "2019-02-06 00:00:00.000 0.011768428786598006\n",
      "2019-02-07 00:00:00.000 0.04064054071543083\n",
      "2019-02-08 00:00:00.000 0.08617890009556739\n",
      "2019-02-09 00:00:00.000 0.14715985489114963\n",
      "2019-02-10 00:00:00.000 0.22200550335677138\n",
      "2019-02-11 00:00:00.000 0.3087832290448007\n",
      "2019-02-12 00:00:00.000 0.40513301436676363\n",
      "2019-02-13 00:00:00.000 0.508115045969404\n",
      "2019-02-14 00:00:00.000 0.61400338337985\n"
     ]
    }
   ],
   "source": [
    "moonIllumination(obs_dates)"
   ]
  },
  {
   "cell_type": "markdown",
   "metadata": {},
   "source": [
    "###### Moon phase new on the Feb, 5th and half on the 13th so 5th will be best day of observing."
   ]
  },
  {
   "cell_type": "markdown",
   "metadata": {},
   "source": [
    "# 4) Delayed Observing Dates"
   ]
  },
  {
   "cell_type": "code",
   "execution_count": 25,
   "metadata": {},
   "outputs": [],
   "source": [
    "new_obs_dates_list = [\"2019-03-01\", \"2019-03-02\", \"2019-03-03\", \"2019-03-04\", \"2019-03-05\", \"2019-03-06\", \"2019-03-07\", \"2019-03-08\", \"2019-03-09\", \"2019-03-10\", \"2019-03-11\", \"2019-03-12\", \"2019-03-13\", \"2019-03-14\"]\n",
    "new_obs_dates = Time(new_obs_dates_list, format='iso')"
   ]
  },
  {
   "cell_type": "markdown",
   "metadata": {},
   "source": [
    "# Observing Lengths"
   ]
  },
  {
   "cell_type": "code",
   "execution_count": 26,
   "metadata": {},
   "outputs": [
    {
     "name": "stdout",
     "output_type": "stream",
     "text": [
      "Observe for 9.4 h on 2019-03-01 00:00:00.000\n",
      "Observe for 9.4 h on 2019-03-02 00:00:00.000\n",
      "Observe for 9.3 h on 2019-03-03 00:00:00.000\n",
      "Observe for 9.2 h on 2019-03-04 00:00:00.000\n",
      "Observe for 9.2 h on 2019-03-05 00:00:00.000\n",
      "Observe for 9.1 h on 2019-03-06 00:00:00.000\n",
      "Observe for 9.0 h on 2019-03-07 00:00:00.000\n",
      "Observe for 9.0 h on 2019-03-08 00:00:00.000\n",
      "Observe for 8.9 h on 2019-03-09 00:00:00.000\n",
      "Observe for 8.8 h on 2019-03-10 00:00:00.000\n",
      "Observe for 8.8 h on 2019-03-11 00:00:00.000\n",
      "Observe for 8.7 h on 2019-03-12 00:00:00.000\n",
      "Observe for 8.6 h on 2019-03-13 00:00:00.000\n",
      "Observe for 8.5 h on 2019-03-14 00:00:00.000\n"
     ]
    }
   ],
   "source": [
    "observeLength(gwObs, new_obs_dates)"
   ]
  },
  {
   "cell_type": "markdown",
   "metadata": {},
   "source": [
    "# Objects Visible"
   ]
  },
  {
   "cell_type": "code",
   "execution_count": 27,
   "metadata": {},
   "outputs": [
    {
     "name": "stdout",
     "output_type": "stream",
     "text": [
      "Name,           RA,          DEC,           airmass\n",
      "96 JnEr 1      07 57 52.58 +53 25 18.4 1.126126307636352\n",
      "142 A 28        08 41 34.59 +58 13 54.2 1.0695430239375425\n"
     ]
    }
   ],
   "source": [
    "objectsVisible(gwObs, pn_table, new_obs_dates[7])"
   ]
  },
  {
   "cell_type": "markdown",
   "metadata": {},
   "source": [
    "# Moon Illumination"
   ]
  },
  {
   "cell_type": "code",
   "execution_count": 29,
   "metadata": {},
   "outputs": [
    {
     "name": "stdout",
     "output_type": "stream",
     "text": [
      "2019-02-01 00:00:00.000 0.13064467718701367\n",
      "2019-02-02 00:00:00.000 0.07280233526687313\n",
      "2019-02-03 00:00:00.000 0.031220534386135534\n",
      "2019-02-04 00:00:00.000 0.006901479974308011\n",
      "2019-02-05 00:00:00.000 0.0003919824971744257\n",
      "2019-02-06 00:00:00.000 0.011768428786598006\n",
      "2019-02-07 00:00:00.000 0.04064054071543083\n",
      "2019-02-08 00:00:00.000 0.08617890009556739\n",
      "2019-02-09 00:00:00.000 0.14715985489114963\n",
      "2019-02-10 00:00:00.000 0.22200550335677138\n",
      "2019-02-11 00:00:00.000 0.3087832290448007\n",
      "2019-02-12 00:00:00.000 0.40513301436676363\n",
      "2019-02-13 00:00:00.000 0.508115045969404\n",
      "2019-02-14 00:00:00.000 0.61400338337985\n"
     ]
    }
   ],
   "source": [
    "moonIllumination(new_obs_dates)"
   ]
  },
  {
   "cell_type": "markdown",
   "metadata": {},
   "source": [
    "# Conclusion"
   ]
  },
  {
   "cell_type": "markdown",
   "metadata": {},
   "source": [
    "###### The first observing date is much better for our list of planetary nebulae since only two of the objects are up a month later."
   ]
  },
  {
   "cell_type": "code",
   "execution_count": null,
   "metadata": {},
   "outputs": [],
   "source": []
  }
 ],
 "metadata": {
  "kernelspec": {
   "display_name": "Python 3",
   "language": "python",
   "name": "python3"
  }
 },
 "nbformat": 4,
 "nbformat_minor": 2
}
