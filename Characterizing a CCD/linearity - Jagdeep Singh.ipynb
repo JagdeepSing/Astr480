{
 "cells": [
  {
   "cell_type": "markdown",
   "metadata": {},
   "source": [
    "# Detector Gain\n",
    "\n",
    "You could calculate the mean of each flat image manually using IRAF. Alternatively, you could calculate the means for all of the images automatically using Python."
   ]
  },
  {
   "cell_type": "code",
   "execution_count": 26,
   "metadata": {},
   "outputs": [],
   "source": [
    "from astropy.io import fits\n",
    "import numpy as np\n",
    "import matplotlib.pyplot as plt\n",
    "# glob serves some of the same functions as ls in the terminal\n",
    "import glob"
   ]
  },
  {
   "cell_type": "markdown",
   "metadata": {},
   "source": [
    "## FITS Headers\n",
    "The headers of the FITS files contain the exposure times of the flat images. Now we use `fits.open` instead of `fits.getdata`. HDU stands for Header/Data Unit."
   ]
  },
  {
   "cell_type": "code",
   "execution_count": 30,
   "metadata": {},
   "outputs": [
    {
     "name": "stdout",
     "output_type": "stream",
     "text": [
      "180.0\n"
     ]
    }
   ],
   "source": [
    "hdu = fits.open('data/480_2018_.Flat.180S0X1.Sky.51.fits')\n",
    "header = hdu[0].header\n",
    "print(header['exptime'])"
   ]
  },
  {
   "cell_type": "markdown",
   "metadata": {},
   "source": [
    "## Calculating Mean Counts\n",
    "We can find all of the flat images, assuming they all have 'Flat' in the name.\n",
    "#### You will need to change the path to the directory containing your data."
   ]
  },
  {
   "cell_type": "code",
   "execution_count": 31,
   "metadata": {},
   "outputs": [
    {
     "data": {
      "text/plain": [
       "['data/480_2018_.Flat.162S0X1.Sky.52.fits',\n",
       " 'data/480_2018_.Flat.0S0X1.Sky.68.fits',\n",
       " 'data/480_2018_.Flat.9S0X1.Sky.62.fits',\n",
       " 'data/480_2018_.Flat.180S0X1.Sky.51.fits',\n",
       " 'data/480_2018_.Flat.120S0X1.Sky.56.fits',\n",
       " 'data/480_2018_.Flat.1S0X1.Sky.66.fits',\n",
       " 'data/480_2018_.Flat.36S0X1.Sky.59.fits',\n",
       " 'data/480_2018_.Flat.18S0X1.Sky.61.fits',\n",
       " 'data/480_2018_.Flat.54S0X1.Sky.58.fits',\n",
       " 'data/480_2018_.Flat.90S0X1.Sky.69.fits',\n",
       " 'data/480_2018_.Flat.4S0X1.Sky.63.fits',\n",
       " 'data/480_2018_.Flat.0S0X1.Sky.67.fits',\n",
       " 'data/480_2018_.Flat.144S0X1.Sky.53.fits',\n",
       " 'data/480_2018_.Flat.126S0X1.Sky.54.fits',\n",
       " 'data/480_2018_.Flat.72S0X1.Sky.57.fits']"
      ]
     },
     "execution_count": 31,
     "metadata": {},
     "output_type": "execute_result"
    }
   ],
   "source": [
    "# This is equivalent to $ ls Flat*.fits\n",
    "flat_list = glob.glob('data/480_2018_.Flat.*.fits')\n",
    "flat_list"
   ]
  },
  {
   "cell_type": "markdown",
   "metadata": {},
   "source": [
    "Now we can loop through each flat image, and keep track of the exposure time and mean counts"
   ]
  },
  {
   "cell_type": "code",
   "execution_count": 32,
   "metadata": {},
   "outputs": [
    {
     "name": "stdout",
     "output_type": "stream",
     "text": [
      "data/480_2018_.Flat.162S0X1.Sky.52.fits\n",
      "Exposure time 162.0 sec\n",
      "Mean counts: 53797.94\n",
      "\n",
      "data/480_2018_.Flat.0S0X1.Sky.68.fits\n",
      "Exposure time 0.281 sec\n",
      "Mean counts: 1099.78\n",
      "\n",
      "data/480_2018_.Flat.9S0X1.Sky.62.fits\n",
      "Exposure time 9.0 sec\n",
      "Mean counts: 3591.21\n",
      "\n",
      "data/480_2018_.Flat.180S0X1.Sky.51.fits\n",
      "Exposure time 180.0 sec\n",
      "Mean counts: 55499.41\n",
      "\n",
      "data/480_2018_.Flat.120S0X1.Sky.56.fits\n",
      "Exposure time 120.0 sec\n",
      "Mean counts: 38706.95\n",
      "\n",
      "data/480_2018_.Flat.1S0X1.Sky.66.fits\n",
      "Exposure time 1.125 sec\n",
      "Mean counts: 1345.15\n",
      "\n",
      "data/480_2018_.Flat.36S0X1.Sky.59.fits\n",
      "Exposure time 36.0 sec\n",
      "Mean counts: 12045.93\n",
      "\n",
      "data/480_2018_.Flat.18S0X1.Sky.61.fits\n",
      "Exposure time 18.0 sec\n",
      "Mean counts: 6597.05\n",
      "\n",
      "data/480_2018_.Flat.54S0X1.Sky.58.fits\n",
      "Exposure time 54.0 sec\n",
      "Mean counts: 18446.11\n",
      "\n",
      "data/480_2018_.Flat.90S0X1.Sky.69.fits\n",
      "Exposure time 90.0 sec\n",
      "Mean counts: 28085.63\n",
      "\n",
      "data/480_2018_.Flat.4S0X1.Sky.63.fits\n",
      "Exposure time 4.0 sec\n",
      "Mean counts: 2180.11\n",
      "\n",
      "data/480_2018_.Flat.0S0X1.Sky.67.fits\n",
      "Exposure time 0.563 sec\n",
      "Mean counts: 1176.45\n",
      "\n",
      "data/480_2018_.Flat.144S0X1.Sky.53.fits\n",
      "Exposure time 144.0 sec\n",
      "Mean counts: 45158.02\n",
      "\n",
      "data/480_2018_.Flat.126S0X1.Sky.54.fits\n",
      "Exposure time 126.0 sec\n",
      "Mean counts: 41164.23\n",
      "\n",
      "data/480_2018_.Flat.72S0X1.Sky.57.fits\n",
      "Exposure time 72.0 sec\n",
      "Mean counts: 24023.60\n",
      "\n"
     ]
    }
   ],
   "source": [
    "# These are empty lists (arrays) to store the exposure times and mean counts\n",
    "exp_times = []\n",
    "means = []\n",
    "\n",
    "for filename in flat_list:\n",
    "    # Open the FITS file\n",
    "    hdu = fits.open(filename)\n",
    "    print(filename)\n",
    "    \n",
    "    exptime = hdu[0].header['exptime']\n",
    "    print('Exposure time {} sec'.format(exptime))\n",
    "    \n",
    "    # This will append the exposure time for each image to the array\n",
    "    exp_times.append(exptime)\n",
    "    \n",
    "    # Same for mean counts\n",
    "    mean_counts = np.mean(hdu[0].data)\n",
    "    print('Mean counts: {:.2f}\\n'.format(mean_counts))\n",
    "    means.append(mean_counts)\n",
    "\n",
    "# Convert to Numpy arrays so they can be sorted\n",
    "exp_times = np.array(exp_times)\n",
    "means = np.array(means)\n",
    "\n",
    "# Sort by exposure time so the plot looks correct\n",
    "time_sort = np.argsort(exp_times)\n",
    "exp_times = exp_times[time_sort]\n",
    "means = means[time_sort]"
   ]
  },
  {
   "cell_type": "markdown",
   "metadata": {},
   "source": [
    "## Plot mean counts versus exposure time\n"
   ]
  },
  {
   "cell_type": "code",
   "execution_count": 33,
   "metadata": {},
   "outputs": [
    {
     "data": {
      "image/png": "[encoded data removed]",
      "text/plain": [
       "<matplotlib.figure.Figure at 0x110cf6710>"
      ]
     },
     "metadata": {},
     "output_type": "display_data"
    }
   ],
   "source": [
    "plt.figure(figsize=(10, 8))\n",
    "plt.rcParams['font.size'] = 16\n",
    "\n",
    "plt.plot(exp_times, means, '-ko')\n",
    "plt.xlabel('Exposure Time (sec)')\n",
    "plt.ylabel('Mean counts')\n",
    "plt.show()"
   ]
  },
  {
   "cell_type": "code",
   "execution_count": null,
   "metadata": {},
   "outputs": [],
   "source": []
  }
 ],
 "metadata": {
  "anaconda-cloud": {},
  "kernelspec": {
   "display_name": "Python 3",
   "language": "python",
   "name": "python3"
  },
  "language_info": {
   "codemirror_mode": {
    "name": "ipython",
    "version": 3
   },
   "file_extension": ".py",
   "mimetype": "text/x-python",
   "name": "python",
   "nbconvert_exporter": "python",
   "pygments_lexer": "ipython3",
   "version": "3.6.4"
  }
 },
 "nbformat": 4,
 "nbformat_minor": 1
}
